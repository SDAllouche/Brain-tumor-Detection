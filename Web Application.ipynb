{
 "cells": [
  {
   "cell_type": "markdown",
   "id": "caa8e393",
   "metadata": {},
   "source": [
    "# <center>Tumeur Cérébrale"
   ]
  },
  {
   "cell_type": "code",
   "execution_count": null,
   "id": "9e4fabdb",
   "metadata": {
    "scrolled": true
   },
   "outputs": [],
   "source": [
    "import numpy as np\n",
    "import matplotlib.pyplot as plt\n",
    "import cv2\n",
    "from flask import Flask, render_template, request, url_for, redirect,jsonify,session\n",
    "from werkzeug.utils import secure_filename\n",
    "import json\n",
    "import os\n",
    "import pandas as pd\n",
    "import seaborn as sns\n",
    "import zipfile\n",
    "import sys\n",
    "from skimage import io\n",
    "import tensorflow as tf\n",
    "from tensorflow.python.keras import Sequential\n",
    "from tensorflow.keras import layers, optimizers\n",
    "from tensorflow.keras.applications import DenseNet121\n",
    "from tensorflow.keras.applications.resnet50 import ResNet50\n",
    "from tensorflow.keras.layers import *\n",
    "from tensorflow.keras.models import Model, load_model\n",
    "from tensorflow.keras.initializers import glorot_uniform\n",
    "from tensorflow.keras.utils import plot_model\n",
    "from tensorflow.keras.callbacks import ReduceLROnPlateau, EarlyStopping, ModelCheckpoint, LearningRateScheduler\n",
    "from IPython.display import display\n",
    "from tensorflow.keras import backend as K\n",
    "from sklearn.preprocessing import StandardScaler, normalize\n",
    "import glob\n",
    "import random\n",
    "%matplotlib inline\n",
    "import warnings #\n",
    "from itertools import chain\n",
    "from skimage.io import imread, imshow, imread_collection, concatenate_images\n",
    "from skimage.morphology import label\n",
    "import tensorflow as tf"
   ]
  },
  {
   "cell_type": "markdown",
   "id": "a4968e55",
   "metadata": {},
   "source": [
    "**Fonctions dont nous avons besoin**"
   ]
  },
  {
   "cell_type": "markdown",
   "id": "daaf216c",
   "metadata": {},
   "source": [
    "Redimensionnement des images"
   ]
  },
  {
   "cell_type": "code",
   "execution_count": null,
   "id": "e8e74a25",
   "metadata": {
    "scrolled": true
   },
   "outputs": [],
   "source": [
    "def redim(im): \n",
    "    img_resized = cv2.resize(im,(120,120))\n",
    "    return img_resized"
   ]
  },
  {
   "cell_type": "markdown",
   "id": "e47254d8",
   "metadata": {},
   "source": [
    "Transformation en niveau de gris"
   ]
  },
  {
   "cell_type": "code",
   "execution_count": null,
   "id": "c97323e2",
   "metadata": {
    "scrolled": true
   },
   "outputs": [],
   "source": [
    "def rgb2gray(I):\n",
    "    return np.dot(I,[0.2989, 0.5870, 0.1140])"
   ]
  },
  {
   "cell_type": "markdown",
   "id": "0ed4b6ba",
   "metadata": {},
   "source": [
    "Calcul d'histogramme"
   ]
  },
  {
   "cell_type": "code",
   "execution_count": null,
   "id": "77d8a532",
   "metadata": {
    "scrolled": true
   },
   "outputs": [],
   "source": [
    "def histo(I):\n",
    "    nl,nc=np.shape(I)\n",
    "    h=np.zeros(256)\n",
    "    I_m=np.round(I)\n",
    "    for i in range(0,nl):\n",
    "        for j in range(0,nc):\n",
    "            val=int(I_m[i][j])\n",
    "            h[val]+=1\n",
    "    return h"
   ]
  },
  {
   "cell_type": "markdown",
   "id": "e54faf82",
   "metadata": {},
   "source": [
    "Calcul la forme"
   ]
  },
  {
   "cell_type": "code",
   "execution_count": null,
   "id": "36597d47",
   "metadata": {
    "scrolled": true
   },
   "outputs": [],
   "source": [
    "def Laplacian(I):\n",
    "    img_lap=cv2.Laplacian(I,cv2.CV_8U,-1)\n",
    "    r, g, b = img_lap[:,:,0], img_lap[:,:,1], img_lap[:,:,2]\n",
    "    gray_lap= 0.2989 * r + 0.5870 * g + 0.1140 * b\n",
    "    return gray_lap"
   ]
  },
  {
   "cell_type": "markdown",
   "id": "86e03f60",
   "metadata": {},
   "source": [
    "Distance Euclidienne"
   ]
  },
  {
   "cell_type": "code",
   "execution_count": null,
   "id": "98503aa3",
   "metadata": {
    "scrolled": true
   },
   "outputs": [],
   "source": [
    "def distance(x,y):\n",
    "    d=np.sqrt(np.sum(np.power((x-y),2)))\n",
    "    return d"
   ]
  },
  {
   "cell_type": "markdown",
   "id": "91ec6191",
   "metadata": {},
   "source": [
    "Distance de Manhattan"
   ]
  },
  {
   "cell_type": "code",
   "execution_count": null,
   "id": "74141848",
   "metadata": {
    "scrolled": true
   },
   "outputs": [],
   "source": [
    "def distanceMan(x,y):\n",
    "    d=np.sum(np.abs(x-y))\n",
    "    return d"
   ]
  },
  {
   "cell_type": "markdown",
   "id": "b8865543",
   "metadata": {},
   "source": [
    "Chemin pour base de données"
   ]
  },
  {
   "cell_type": "code",
   "execution_count": null,
   "id": "29b96819",
   "metadata": {
    "scrolled": true
   },
   "outputs": [],
   "source": [
    "#Training Paths:\n",
    "pathn=r'Dataset\\Data1\\No\\\\'\n",
    "pathy=r'Dataset\\Data1\\Yes\\\\'\n",
    "\n",
    "#Testing Paths:\n",
    "testpathn=r'Dataset\\Data1\\Testing\\No\\\\'\n",
    "testpathb=r'Dataset\\Data1\\Testing\\Benign\\\\'\n",
    "testpathm=r'Dataset\\Data1\\Testing\\Malignant\\\\'"
   ]
  },
  {
   "cell_type": "markdown",
   "id": "ea6c5143",
   "metadata": {},
   "source": [
    "Calcul des statistiques d'ordre 1"
   ]
  },
  {
   "cell_type": "code",
   "execution_count": null,
   "id": "06e2e8f5",
   "metadata": {
    "scrolled": true
   },
   "outputs": [],
   "source": [
    "def variance(I):\n",
    "    nl,nc=I.shape\n",
    "    m=np.mean(I)\n",
    "    va=np.sum((I-m)**2)/(nl*nc)\n",
    "    return va"
   ]
  },
  {
   "cell_type": "code",
   "execution_count": null,
   "id": "403fe8b8",
   "metadata": {
    "scrolled": true
   },
   "outputs": [],
   "source": [
    "def energie(I): \n",
    "    nl,nc=I.shape\n",
    "    en= np.sum(I**2)\n",
    "    return en"
   ]
  },
  {
   "cell_type": "code",
   "execution_count": null,
   "id": "34042a33",
   "metadata": {
    "scrolled": true
   },
   "outputs": [],
   "source": [
    "def entropie(I):\n",
    "    ent=np.sum(I*np.log2(I+1e-10))\n",
    "    return -ent"
   ]
  },
  {
   "cell_type": "code",
   "execution_count": null,
   "id": "cd99040e",
   "metadata": {
    "scrolled": true
   },
   "outputs": [],
   "source": [
    "def contraste(I):\n",
    "    nl,nc=I.shape\n",
    "    co=0\n",
    "    for i in range(nl):\n",
    "        for j in range(nc):\n",
    "            co+=np.power((i-j),2)*I[i,j]\n",
    "    return co"
   ]
  },
  {
   "cell_type": "code",
   "execution_count": null,
   "id": "e8f96ebe",
   "metadata": {
    "scrolled": true
   },
   "outputs": [],
   "source": [
    "def homogenite(I):\n",
    "    nl,nc=I.shape\n",
    "    mo=0\n",
    "    for i in range(nl):\n",
    "        for j in range(nc):\n",
    "            mo+=I[i,j]/(1+np.abs(i-j))\n",
    "    return mo"
   ]
  },
  {
   "cell_type": "markdown",
   "id": "6f3fc708",
   "metadata": {},
   "source": [
    "Stockage des 5 statistiques dans un array"
   ]
  },
  {
   "cell_type": "code",
   "execution_count": null,
   "id": "9c03edc7",
   "metadata": {
    "scrolled": true
   },
   "outputs": [],
   "source": [
    "def texture(I):\n",
    "    I=I/255\n",
    "    return np.array((variance(I),energie(I),entropie(I),contraste(I),homogenite(I)))"
   ]
  },
  {
   "cell_type": "markdown",
   "id": "2f80adf0",
   "metadata": {},
   "source": [
    "Calcul de la matrice de co-occurence"
   ]
  },
  {
   "cell_type": "code",
   "execution_count": null,
   "id": "ea14c117",
   "metadata": {
    "scrolled": true
   },
   "outputs": [],
   "source": [
    "def GLCM(I):\n",
    "    (l,c)=I.shape\n",
    "    I=np.array(I).astype(int)\n",
    "    m=np.max(I)\n",
    "    C=np.zeros((m+1,m+1));\n",
    "    for i in range(l):\n",
    "        for j in range(c-1):\n",
    "            C[I[i][j]][I[i][j+1]]+=1\n",
    "    return C/np.max(C)"
   ]
  },
  {
   "cell_type": "markdown",
   "id": "5f2125bc",
   "metadata": {},
   "source": [
    "Stockage des images dans une matrice train"
   ]
  },
  {
   "cell_type": "code",
   "execution_count": null,
   "id": "a47f918b",
   "metadata": {
    "scrolled": true
   },
   "outputs": [],
   "source": [
    "def stocker_images_train(nbr_im):\n",
    "    filename1=pathn+'N1.jpg'\n",
    "    I=plt.imread(filename1)\n",
    "    I=redim(I)\n",
    "    nl,nc=rgb2gray(I).shape\n",
    "    mat_image=np.zeros((nl,nc,nbr_im))\n",
    "    \n",
    "    for i in range(nbr_im):\n",
    "        if(i<nbr_im/3):\n",
    "            I2=plt.imread(pathn+'N'+str(i+1)+'.jpg')\n",
    "            I2=redim(I2)\n",
    "            mat_image[:,:,i]=np.round(rgb2gray(I2))\n",
    "        elif(i<2*nbr_im/3):\n",
    "            I2=plt.imread(pathy+'B'+str(i-int(nbr_im/3)+1)+'.jpg')\n",
    "            I2=redim(I2)\n",
    "            mat_image[:,:,i]=np.round(rgb2gray(I2))\n",
    "        elif(i<nbr_im):\n",
    "            I2=plt.imread(pathy+'M'+str(i-int(2*nbr_im/3)+1)+'.jpg')\n",
    "            I2=redim(I2)\n",
    "            mat_image[:,:,i]=np.round(rgb2gray(I2))\n",
    "    \n",
    "    return mat_image\n",
    "\n",
    "def stocker_images_train_form(nbr_im):\n",
    "    filename1=pathn+'N1.jpg'\n",
    "    I=cv2.imread(filename1)\n",
    "    I=redim(I)\n",
    "    nl,nc=rgb2gray(I).shape\n",
    "    mat_image=np.zeros((nl,nc,nbr_im))\n",
    "    \n",
    "    for i in range(nbr_im):\n",
    "        if(i<nbr_im/3):\n",
    "            I2=cv2.imread(pathn+'N'+str(i+1)+'.jpg')\n",
    "            I2=redim(I2)\n",
    "            mat_image[:,:,i]=Laplacian(I2)\n",
    "        elif(i<2*nbr_im/3):\n",
    "            I2=cv2.imread(pathy+'B'+str(i-int(nbr_im/3)+1)+'.jpg')\n",
    "            I2=redim(I2)\n",
    "            mat_image[:,:,i]=Laplacian(I2)\n",
    "        elif(i<nbr_im):\n",
    "            I2=cv2.imread(pathy+'M'+str(i-int(2*nbr_im/3)+1)+'.jpg')\n",
    "            I2=redim(I2)\n",
    "            mat_image[:,:,i]=Laplacian(I2)\n",
    "    \n",
    "    return mat_image"
   ]
  },
  {
   "cell_type": "markdown",
   "id": "4bed7295",
   "metadata": {},
   "source": [
    "Stockage des descripteurs"
   ]
  },
  {
   "cell_type": "code",
   "execution_count": null,
   "id": "09b2bafe",
   "metadata": {
    "scrolled": true
   },
   "outputs": [],
   "source": [
    "def stocker_desc(mat_image,arr_desc):\n",
    "    nl,nc,nbr_img=mat_image.shape\n",
    "    ndesc=arr_desc(mat_image[:,:,0]).shape[0]\n",
    "    desc=np.zeros((nbr_img,ndesc))\n",
    "    for i in range(nbr_img):\n",
    "        desc[i]=arr_desc(mat_image[:,:,i])\n",
    "    return desc"
   ]
  },
  {
   "cell_type": "markdown",
   "id": "d5e32224",
   "metadata": {},
   "source": [
    "**Matrices des Images**"
   ]
  },
  {
   "cell_type": "code",
   "execution_count": null,
   "id": "5a9a72ca",
   "metadata": {
    "scrolled": true
   },
   "outputs": [],
   "source": [
    "nbr_im=300\n",
    "nbr_testim=300 #nbr_im=nbr_testim"
   ]
  },
  {
   "cell_type": "code",
   "execution_count": null,
   "id": "dc5799c7",
   "metadata": {
    "scrolled": true
   },
   "outputs": [],
   "source": [
    "mat_image_train=stocker_images_train(nbr_im)\n",
    "mat_image_train.shape"
   ]
  },
  {
   "cell_type": "code",
   "execution_count": null,
   "id": "ddefad3b",
   "metadata": {
    "scrolled": true
   },
   "outputs": [],
   "source": [
    "mat_lap_train=stocker_images_train_form(nbr_im)\n",
    "mat_lap_train.shape"
   ]
  },
  {
   "cell_type": "markdown",
   "id": "893fe969",
   "metadata": {},
   "source": [
    "**Matrices d'Histogrammes**"
   ]
  },
  {
   "cell_type": "code",
   "execution_count": null,
   "id": "d75a4303",
   "metadata": {
    "scrolled": true
   },
   "outputs": [],
   "source": [
    "mat_hist_train=stocker_desc(mat_image_train,histo)\n",
    "mat_hist_train.shape"
   ]
  },
  {
   "cell_type": "markdown",
   "id": "216f5554",
   "metadata": {},
   "source": [
    "**Matrices de forme**"
   ]
  },
  {
   "cell_type": "code",
   "execution_count": null,
   "id": "fb2b4415",
   "metadata": {
    "scrolled": true
   },
   "outputs": [],
   "source": [
    "mat_hist_train_form=stocker_desc(mat_lap_train,histo)\n",
    "mat_hist_train_form.shape"
   ]
  },
  {
   "cell_type": "markdown",
   "id": "60bd67fa",
   "metadata": {},
   "source": [
    "**Matrices de Textures**"
   ]
  },
  {
   "cell_type": "code",
   "execution_count": null,
   "id": "67a40852",
   "metadata": {
    "scrolled": true
   },
   "outputs": [],
   "source": [
    "mat_tex_train=stocker_desc(mat_image_train,texture)\n",
    "mat_tex_train.shape"
   ]
  },
  {
   "cell_type": "markdown",
   "id": "858799f2",
   "metadata": {},
   "source": [
    "**Matrices de Textures sur GLCM**"
   ]
  },
  {
   "cell_type": "code",
   "execution_count": null,
   "id": "030ccac6",
   "metadata": {
    "scrolled": true
   },
   "outputs": [],
   "source": [
    "def stocker_descGLCM(mat_image):\n",
    "    nl,nc,nbr_img=mat_image.shape\n",
    "    desc=np.zeros((nbr_img,5))\n",
    "    for i in range(nbr_img):\n",
    "        desc[i]=texture(GLCM(mat_image[:,:,i]))\n",
    "    return desc"
   ]
  },
  {
   "cell_type": "code",
   "execution_count": null,
   "id": "240a6e8e",
   "metadata": {
    "scrolled": true
   },
   "outputs": [],
   "source": [
    "mat_glcm_train=stocker_descGLCM(mat_image_train)\n",
    "mat_glcm_train.shape"
   ]
  },
  {
   "cell_type": "markdown",
   "id": "11e6c38d",
   "metadata": {},
   "source": [
    "**Matrices des Distances Euclidiennes**"
   ]
  },
  {
   "cell_type": "code",
   "execution_count": null,
   "id": "d6ce6ef9",
   "metadata": {
    "scrolled": true
   },
   "outputs": [],
   "source": [
    "def stocker_dist(mat_desc_train,mat_desc_test,nbr_img):\n",
    "    distance_mat=np.zeros((nbr_img))\n",
    "    for i in range(0,nbr_img):\n",
    "        distance_mat[i] = distance(mat_desc_train[i],mat_desc_test)\n",
    "    return distance_mat"
   ]
  },
  {
   "cell_type": "markdown",
   "id": "79df8390",
   "metadata": {},
   "source": [
    "**Matrices des Distances de Manhattan**"
   ]
  },
  {
   "cell_type": "code",
   "execution_count": null,
   "id": "07757380",
   "metadata": {
    "scrolled": true
   },
   "outputs": [],
   "source": [
    "def stocker_distM(mat_desc_train,mat_desc_test,nbr_img):\n",
    "    distance_mat=np.zeros((nbr_img))\n",
    "    for i in range(0,nbr_img):\n",
    "        distance_mat[i] = distanceMan(mat_desc_train[i],mat_desc_test)\n",
    "    return distance_mat"
   ]
  },
  {
   "cell_type": "markdown",
   "id": "43c01f11",
   "metadata": {},
   "source": [
    "**Prediction measurs**"
   ]
  },
  {
   "cell_type": "code",
   "execution_count": null,
   "id": "68a120e4",
   "metadata": {
    "scrolled": true
   },
   "outputs": [],
   "source": [
    "def measurs(mat_train,img_req,nbr=300):\n",
    "    mat_disE=stocker_dist(mat_train,img_req,nbr)\n",
    "    mat_disM=stocker_distM(mat_train,img_req,nbr)\n",
    "    mat_indexE=np.argsort(mat_disE)\n",
    "    mat_indexM=np.argsort(mat_disM)\n",
    "    K_proche=10\n",
    "    be=0;me=0;ne=0\n",
    "    bm=0;mm=0;nm=0\n",
    "    a=5;b=5\n",
    "    for i in range(K_proche):\n",
    "        if mat_indexE[i]<nbr/3:\n",
    "            ne+=10\n",
    "        elif mat_indexE[i]<(2*nbr/3):\n",
    "            be+=10\n",
    "        elif mat_indexE[i]<nbr:\n",
    "            me+=10\n",
    "\n",
    "        \n",
    "    for i in range(K_proche):\n",
    "        if mat_indexM[i]<nbr/3:\n",
    "            nm+=10\n",
    "        elif mat_indexM[i]<(2*nbr/3):\n",
    "            bm+=10\n",
    "        elif mat_indexM[i]<nbr:\n",
    "            mm+=10\n",
    "\n",
    "    return [ne,be,me,nm,bm,mm]"
   ]
  },
  {
   "cell_type": "markdown",
   "id": "474d8087",
   "metadata": {},
   "source": [
    "**Import Data**"
   ]
  },
  {
   "cell_type": "code",
   "execution_count": null,
   "id": "969671cd",
   "metadata": {
    "scrolled": true
   },
   "outputs": [],
   "source": [
    "brain_df=pd.read_csv('data_mask.csv')\n",
    "brain_df_mask = brain_df[brain_df['mask'] == 1]\n",
    "brain_df_mask = brain_df_mask.drop(columns = ['patient_id'])\n",
    "\n",
    "liste_path=[]\n",
    "liste_mask=[]\n",
    "\n",
    "for i,j in enumerate(brain_df_mask.image_path):\n",
    "    a='Dataset/Mask/'+j\n",
    "    liste_path.append(a)\n",
    "\n",
    "for k,l in enumerate(brain_df_mask.mask_path):\n",
    "    b='Dataset/Mask/'+l\n",
    "    liste_mask.append(b)"
   ]
  },
  {
   "cell_type": "markdown",
   "id": "3e527f0f",
   "metadata": {},
   "source": [
    "**Prepare Data Test**"
   ]
  },
  {
   "cell_type": "code",
   "execution_count": null,
   "id": "4857cca6",
   "metadata": {
    "scrolled": true
   },
   "outputs": [],
   "source": [
    "from tqdm import tqdm\n",
    "from skimage.transform import resize\n",
    "IMG_WIDTH = 128\n",
    "IMG_HEIGHT = 128\n",
    "IMG_CHANNELS = 3\n",
    "print('Getting and resizing training images ... ')\n",
    "X_train = np.zeros((6, IMG_HEIGHT, IMG_WIDTH, IMG_CHANNELS), dtype=np.uint8)\n",
    "        \n",
    "# Re-sizing our training images to 128 x 128\n",
    "# Note sys.stdout prints info that can be cleared unlike print.\n",
    "# Using TQDM allows us to create progress bars\n",
    "sys.stdout.flush()\n",
    "\n",
    "for i in range(5):\n",
    "    path=liste_path[i]\n",
    "    path1=liste_mask[i]\n",
    "    img = plt.imread(path)[:,:,:IMG_CHANNELS]\n",
    "    img = resize(img, (IMG_HEIGHT, IMG_WIDTH), mode='constant', preserve_range=True)\n",
    "    X_train[i] = img"
   ]
  },
  {
   "cell_type": "markdown",
   "id": "79af6ac7",
   "metadata": {},
   "source": [
    "**Import Segmentation Model**"
   ]
  },
  {
   "cell_type": "code",
   "execution_count": null,
   "id": "18c673ce",
   "metadata": {
    "scrolled": true
   },
   "outputs": [],
   "source": [
    "def my_iou_metric(label, pred):\n",
    "    metric_value = tf.py_func(iou_metric_batch, [label, pred], tf.float32)     \n",
    "    return metric_value\n",
    "\n",
    "model = load_model('nuclei_finder_unet_1.h5', \n",
    "                   custom_objects={'my_iou_metric': my_iou_metric})"
   ]
  },
  {
   "cell_type": "markdown",
   "id": "a07a4b1d",
   "metadata": {},
   "source": [
    "**Segmentation**"
   ]
  },
  {
   "cell_type": "code",
   "execution_count": null,
   "id": "cd7ce76e",
   "metadata": {
    "scrolled": true
   },
   "outputs": [],
   "source": [
    "from skimage.transform import resize\n",
    "\n",
    "def segmentation(path,name):\n",
    "    image='static/img/' +name\n",
    "    mask='static/img/' + 'mask_'+name \n",
    "    img = plt.imread(path,0)\n",
    "    img = resize(img, (128, 128), mode='constant', preserve_range=True)\n",
    "    X_train[5]=img\n",
    "    preds_test = model.predict(X_train, verbose=1)\n",
    "    preds_test_t = (preds_test > 0.5).astype(np.uint8)\n",
    "    plt.title('Image Original')\n",
    "    plt.imshow(X_train[5])\n",
    "    plt.savefig(image)\n",
    "    plt.title('Segmentation')\n",
    "    plt.imshow(np.squeeze(preds_test_t[5]))\n",
    "    plt.savefig(mask)\n",
    "    \n",
    "    return [image,mask]"
   ]
  },
  {
   "cell_type": "markdown",
   "id": "ef086810",
   "metadata": {},
   "source": [
    "**App Web**"
   ]
  },
  {
   "cell_type": "code",
   "execution_count": null,
   "id": "a45d4067",
   "metadata": {
    "scrolled": true
   },
   "outputs": [],
   "source": [
    "app = Flask(__name__)\n",
    "UPLOAD_FOLDER = 'static/uploads'\n",
    "app.config['UPLOAD_FOLDER'] = UPLOAD_FOLDER\n",
    "app.config['MAX_CONTENT_LENGTH'] = 16 * 1024 * 1024\n",
    "'''ALLOWED_EXTENSIONS = set(['png', 'jpg', 'jpeg', 'gif'])\n",
    "def allowed_file(filename):\n",
    "    return '.' in filename and filename.rsplit('.', 1)[1].lower() in ALLOWED_EXTENSIONS'''\n",
    "\n",
    "\n",
    "@app.route('/')\n",
    "def home():\n",
    "    return render_template('index.html',)\n",
    "\n",
    "\n",
    "@app.route('/upload', methods=['POST','GET'])\n",
    "def upload():\n",
    "    if request.method == 'POST':\n",
    "        file = request.files['file']\n",
    "        filename = secure_filename(file.filename)\n",
    "        file.save(os.path.join(app.config['UPLOAD_FOLDER'], filename))\n",
    "        filename1='static/uploads/' + filename\n",
    "        I=redim(rgb2gray(plt.imread(filename1)))\n",
    "        histogramme=histo(I)\n",
    "        I2=redim(cv2.imread(filename1))\n",
    "        form=histo(Laplacian(I2))\n",
    "        textur=texture(I)\n",
    "        glcm=texture(GLCM(I))\n",
    "        eval_params_histo=measurs(mat_hist_train,histogramme)\n",
    "        eval_params_form=measurs(mat_hist_train_form,form)\n",
    "        eval_params_texture=measurs(mat_tex_train,textur)\n",
    "        eval_params_glcm=measurs(mat_glcm_train,glcm)\n",
    "        image_url=segmentation(filename1,filename)\n",
    "        return jsonify(eval_params_histo,eval_params_form,eval_params_texture,eval_params_glcm,image_url)\n",
    "if __name__ == '__main__':\n",
    "    app.run()"
   ]
  },
  {
   "cell_type": "code",
   "execution_count": null,
   "id": "9467759a",
   "metadata": {
    "scrolled": true
   },
   "outputs": [],
   "source": []
  }
 ],
 "metadata": {
  "kernelspec": {
   "display_name": "Python 3 (ipykernel)",
   "language": "python",
   "name": "python3"
  },
  "language_info": {
   "codemirror_mode": {
    "name": "ipython",
    "version": 3
   },
   "file_extension": ".py",
   "mimetype": "text/x-python",
   "name": "python",
   "nbconvert_exporter": "python",
   "pygments_lexer": "ipython3",
   "version": "3.9.7"
  }
 },
 "nbformat": 4,
 "nbformat_minor": 5
}
