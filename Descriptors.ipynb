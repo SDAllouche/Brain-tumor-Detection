{
 "cells": [
  {
   "cell_type": "markdown",
   "id": "caa8e393",
   "metadata": {},
   "source": [
    "# <center>Tumeur Cérébrale"
   ]
  },
  {
   "cell_type": "code",
   "execution_count": null,
   "id": "9e4fabdb",
   "metadata": {},
   "outputs": [],
   "source": [
    "import numpy as np\n",
    "import matplotlib.pyplot as plt\n",
    "import cv2"
   ]
  },
  {
   "cell_type": "markdown",
   "id": "a4968e55",
   "metadata": {},
   "source": [
    "**Fonctions dont nous avons besoin**"
   ]
  },
  {
   "cell_type": "markdown",
   "id": "daaf216c",
   "metadata": {},
   "source": [
    "Redimensionnement des images"
   ]
  },
  {
   "cell_type": "code",
   "execution_count": null,
   "id": "e8e74a25",
   "metadata": {},
   "outputs": [],
   "source": [
    "def redim(im): \n",
    "    img_resized = cv2.resize(im,(120,120))\n",
    "    return img_resized"
   ]
  },
  {
   "cell_type": "markdown",
   "id": "e47254d8",
   "metadata": {},
   "source": [
    "Transformation en niveau de gris"
   ]
  },
  {
   "cell_type": "code",
   "execution_count": null,
   "id": "c97323e2",
   "metadata": {},
   "outputs": [],
   "source": [
    "def rgb2gray(I):\n",
    "    return np.dot(I,[0.2989, 0.5870, 0.1140])"
   ]
  },
  {
   "cell_type": "markdown",
   "id": "0ed4b6ba",
   "metadata": {},
   "source": [
    "Calcul d'histogramme"
   ]
  },
  {
   "cell_type": "code",
   "execution_count": null,
   "id": "77d8a532",
   "metadata": {},
   "outputs": [],
   "source": [
    "def histo(I):\n",
    "    nl,nc=np.shape(I)\n",
    "    h=np.zeros(256)\n",
    "    I_m=np.round(I)\n",
    "    for i in range(0,nl):\n",
    "        for j in range(0,nc):\n",
    "            val=int(I_m[i][j])\n",
    "            h[val]+=1\n",
    "    return h"
   ]
  },
  {
   "cell_type": "markdown",
   "id": "e54faf82",
   "metadata": {},
   "source": [
    "Calcul la forme"
   ]
  },
  {
   "cell_type": "code",
   "execution_count": null,
   "id": "36597d47",
   "metadata": {},
   "outputs": [],
   "source": [
    "def Laplacian(I):\n",
    "    img_lap=cv2.Laplacian(I,cv2.CV_8U,-1)\n",
    "    r, g, b = img_lap[:,:,0], img_lap[:,:,1], img_lap[:,:,2]\n",
    "    gray_lap= 0.2989 * r + 0.5870 * g + 0.1140 * b\n",
    "    return gray_lap"
   ]
  },
  {
   "cell_type": "markdown",
   "id": "86e03f60",
   "metadata": {},
   "source": [
    "Distance Euclidienne"
   ]
  },
  {
   "cell_type": "code",
   "execution_count": null,
   "id": "98503aa3",
   "metadata": {},
   "outputs": [],
   "source": [
    "def distance(x,y):\n",
    "    d=np.sqrt(np.sum(np.power((x-y),2)))\n",
    "    return d"
   ]
  },
  {
   "cell_type": "markdown",
   "id": "91ec6191",
   "metadata": {},
   "source": [
    "Distance de Manhattan"
   ]
  },
  {
   "cell_type": "code",
   "execution_count": null,
   "id": "74141848",
   "metadata": {},
   "outputs": [],
   "source": [
    "def distanceMan(x,y):\n",
    "    d=np.sum(np.abs(x-y))\n",
    "    return d"
   ]
  },
  {
   "cell_type": "markdown",
   "id": "b8865543",
   "metadata": {},
   "source": [
    "Chemin pour base de données"
   ]
  },
  {
   "cell_type": "code",
   "execution_count": null,
   "id": "29b96819",
   "metadata": {},
   "outputs": [],
   "source": [
    "#Training Paths:\n",
    "pathn=r'Dataset\\Extrait\\No\\\\'\n",
    "pathy=r'Dataset\\Extrait\\Yes\\\\'\n",
    "\n",
    "#Testing Paths:\n",
    "testpathn=r'Dataset\\Extrait\\Testing\\No\\\\'\n",
    "testpathb=r'Dataset\\Extrait\\Testing\\Benign\\\\'\n",
    "testpathm=r'Dataset\\Extrait\\Testing\\Malignant\\\\'"
   ]
  },
  {
   "cell_type": "markdown",
   "id": "ea6c5143",
   "metadata": {},
   "source": [
    "Calcul des statistiques d'ordre 1"
   ]
  },
  {
   "cell_type": "code",
   "execution_count": null,
   "id": "06e2e8f5",
   "metadata": {},
   "outputs": [],
   "source": [
    "def variance(I):\n",
    "    nl,nc=I.shape\n",
    "    m=np.mean(I)\n",
    "    va=np.sum((I-m)**2)/(nl*nc)\n",
    "    return va"
   ]
  },
  {
   "cell_type": "code",
   "execution_count": null,
   "id": "403fe8b8",
   "metadata": {},
   "outputs": [],
   "source": [
    "def energie(I): \n",
    "    nl,nc=I.shape\n",
    "    en= np.sum(I**2)\n",
    "    return en"
   ]
  },
  {
   "cell_type": "code",
   "execution_count": null,
   "id": "34042a33",
   "metadata": {},
   "outputs": [],
   "source": [
    "def entropie(I):\n",
    "    ent=np.sum(I*np.log2(I+1e-10))\n",
    "    return -ent"
   ]
  },
  {
   "cell_type": "code",
   "execution_count": null,
   "id": "cd99040e",
   "metadata": {},
   "outputs": [],
   "source": [
    "def contraste(I):\n",
    "    nl,nc=I.shape\n",
    "    co=0\n",
    "    for i in range(nl):\n",
    "        for j in range(nc):\n",
    "            co+=np.power((i-j),2)*I[i,j]\n",
    "    return co"
   ]
  },
  {
   "cell_type": "code",
   "execution_count": null,
   "id": "e8f96ebe",
   "metadata": {},
   "outputs": [],
   "source": [
    "def homogenite(I):\n",
    "    nl,nc=I.shape\n",
    "    mo=0\n",
    "    for i in range(nl):\n",
    "        for j in range(nc):\n",
    "            mo+=I[i,j]/(1+np.abs(i-j))\n",
    "    return mo"
   ]
  },
  {
   "cell_type": "markdown",
   "id": "6f3fc708",
   "metadata": {},
   "source": [
    "Stockage des 5 statistiques dans un array"
   ]
  },
  {
   "cell_type": "code",
   "execution_count": null,
   "id": "9c03edc7",
   "metadata": {},
   "outputs": [],
   "source": [
    "def texture(I):\n",
    "    I=I/255\n",
    "    return np.array((variance(I),energie(I),entropie(I),contraste(I),homogenite(I)))"
   ]
  },
  {
   "cell_type": "markdown",
   "id": "2f80adf0",
   "metadata": {},
   "source": [
    "Calcul de la matrice de co-occurence"
   ]
  },
  {
   "cell_type": "code",
   "execution_count": null,
   "id": "ea14c117",
   "metadata": {},
   "outputs": [],
   "source": [
    "def GLCM(I):\n",
    "    (l,c)=I.shape\n",
    "    I=np.array(I).astype(int)\n",
    "    m=np.max(I)\n",
    "    C=np.zeros((m+1,m+1));\n",
    "    for i in range(l):\n",
    "        for j in range(c-1):\n",
    "            C[I[i][j]][I[i][j+1]]+=1\n",
    "    return C/np.max(C)"
   ]
  },
  {
   "cell_type": "markdown",
   "id": "5f2125bc",
   "metadata": {},
   "source": [
    "Stockage des images dans une matrice train"
   ]
  },
  {
   "cell_type": "code",
   "execution_count": null,
   "id": "a47f918b",
   "metadata": {},
   "outputs": [],
   "source": [
    "def stocker_images_train(nbr_im):\n",
    "    filename1=pathn+'N1.jpg'\n",
    "    I=plt.imread(filename1)\n",
    "    I=redim(I)\n",
    "    nl,nc=rgb2gray(I).shape\n",
    "    mat_image=np.zeros((nl,nc,nbr_im))\n",
    "    \n",
    "    for i in range(nbr_im):\n",
    "        if(i<nbr_im/3):\n",
    "            I2=plt.imread(pathn+'N'+str(i+1)+'.jpg')\n",
    "            I2=redim(I2)\n",
    "            mat_image[:,:,i]=np.round(rgb2gray(I2))\n",
    "        elif(i<2*nbr_im/3):\n",
    "            I2=plt.imread(pathy+'B'+str(i-int(nbr_im/3)+1)+'.jpg')\n",
    "            I2=redim(I2)\n",
    "            mat_image[:,:,i]=np.round(rgb2gray(I2))\n",
    "        elif(i<nbr_im):\n",
    "            I2=plt.imread(pathy+'M'+str(i-int(2*nbr_im/3)+1)+'.jpg')\n",
    "            I2=redim(I2)\n",
    "            mat_image[:,:,i]=np.round(rgb2gray(I2))\n",
    "    \n",
    "    return mat_image\n",
    "\n",
    "def stocker_images_train_form(nbr_im):\n",
    "    filename1=pathn+'N1.jpg'\n",
    "    I=cv2.imread(filename1)\n",
    "    I=redim(I)\n",
    "    nl,nc=rgb2gray(I).shape\n",
    "    mat_image=np.zeros((nl,nc,nbr_im))\n",
    "    \n",
    "    for i in range(nbr_im):\n",
    "        if(i<nbr_im/3):\n",
    "            I2=cv2.imread(pathn+'N'+str(i+1)+'.jpg')\n",
    "            I2=redim(I2)\n",
    "            mat_image[:,:,i]=Laplacian(I2)\n",
    "        elif(i<2*nbr_im/3):\n",
    "            I2=cv2.imread(pathy+'B'+str(i-int(nbr_im/3)+1)+'.jpg')\n",
    "            I2=redim(I2)\n",
    "            mat_image[:,:,i]=Laplacian(I2)\n",
    "        elif(i<nbr_im):\n",
    "            I2=cv2.imread(pathy+'M'+str(i-int(2*nbr_im/3)+1)+'.jpg')\n",
    "            I2=redim(I2)\n",
    "            mat_image[:,:,i]=Laplacian(I2)\n",
    "    \n",
    "    return mat_image"
   ]
  },
  {
   "cell_type": "markdown",
   "id": "d1d75fba",
   "metadata": {},
   "source": [
    "Stockage des images dans une matrice test"
   ]
  },
  {
   "cell_type": "code",
   "execution_count": null,
   "id": "9b46078f",
   "metadata": {},
   "outputs": [],
   "source": [
    "def stocker_images_test(nbr_testim):\n",
    "    filename1=pathn+'N1.jpg'\n",
    "    I=plt.imread(filename1)\n",
    "    I=redim(I)\n",
    "    nl,nc=rgb2gray(I).shape\n",
    "    mat_image=np.zeros((nl,nc,nbr_testim))\n",
    "    \n",
    "    for i in range(nbr_testim):\n",
    "        if(i<nbr_testim/3):\n",
    "            I2=plt.imread(testpathn+'N'+str(i+1)+'.jpg')\n",
    "            I2=redim(I2)\n",
    "            mat_image[:,:,i]=np.round(rgb2gray(I2))\n",
    "        elif(i<2*nbr_testim/3):\n",
    "            I2=plt.imread(testpathb+'B'+str(i-int(nbr_testim/3)+1)+'.jpg')\n",
    "            I2=redim(I2)\n",
    "            mat_image[:,:,i]=np.round(rgb2gray(I2))\n",
    "        elif(i<nbr_testim):\n",
    "            I2=plt.imread(testpathm+'M'+str(i-int(2*nbr_testim/3)+1)+'.jpg')\n",
    "            I2=redim(I2)\n",
    "            mat_image[:,:,i]=np.round(rgb2gray(I2))\n",
    "    \n",
    "    return mat_image\n",
    "\n",
    "def stocker_images_test_form(nbr_im):\n",
    "    filename1=pathn+'N1.jpg'\n",
    "    I=cv2.imread(filename1)\n",
    "    I=redim(I)\n",
    "    nl,nc=rgb2gray(I).shape\n",
    "    mat_image=np.zeros((nl,nc,nbr_testim))\n",
    "    \n",
    "    for i in range(nbr_im):\n",
    "        if(i<nbr_im/3):\n",
    "            I2=cv2.imread(testpathn+'N'+str(i+1)+'.jpg')\n",
    "            I2=redim(I2)\n",
    "            mat_image[:,:,i]=Laplacian(I2)\n",
    "        elif(i<2*nbr_im/3):\n",
    "            I2=cv2.imread(testpathb+'B'+str(i-int(nbr_testim/3)+1)+'.jpg')\n",
    "            I2=redim(I2)\n",
    "            mat_image[:,:,i]=Laplacian(I2)\n",
    "        elif(i<nbr_im):\n",
    "            I2=cv2.imread(testpathm+'M'+str(i-int(2*nbr_testim/3)+1)+'.jpg')\n",
    "            I2=redim(I2)\n",
    "            mat_image[:,:,i]=Laplacian(I2)\n",
    "    \n",
    "    return mat_image"
   ]
  },
  {
   "cell_type": "markdown",
   "id": "4bed7295",
   "metadata": {},
   "source": [
    "Stockage des descripteurs"
   ]
  },
  {
   "cell_type": "code",
   "execution_count": null,
   "id": "09b2bafe",
   "metadata": {},
   "outputs": [],
   "source": [
    "def stocker_desc(mat_image,arr_desc):\n",
    "    nl,nc,nbr_img=mat_image.shape\n",
    "    ndesc=arr_desc(mat_image[:,:,0]).shape[0]\n",
    "    desc=np.zeros((nbr_img,ndesc))\n",
    "    for i in range(nbr_img):\n",
    "        desc[i]=arr_desc(mat_image[:,:,i])\n",
    "    return desc"
   ]
  },
  {
   "cell_type": "markdown",
   "id": "d5e32224",
   "metadata": {},
   "source": [
    "**Matrices des Images**"
   ]
  },
  {
   "cell_type": "code",
   "execution_count": null,
   "id": "5a9a72ca",
   "metadata": {},
   "outputs": [],
   "source": [
    "nbr_im=300\n",
    "nbr_testim=300 #nbr_im=nbr_testim"
   ]
  },
  {
   "cell_type": "code",
   "execution_count": null,
   "id": "dc5799c7",
   "metadata": {},
   "outputs": [],
   "source": [
    "mat_image_train=stocker_images_train(nbr_im)\n",
    "mat_image_train.shape"
   ]
  },
  {
   "cell_type": "code",
   "execution_count": null,
   "id": "3b503e98",
   "metadata": {},
   "outputs": [],
   "source": [
    "mat_image_test=stocker_images_test(nbr_testim)\n",
    "mat_image_test.shape"
   ]
  },
  {
   "cell_type": "code",
   "execution_count": null,
   "id": "6f0c9cc2",
   "metadata": {},
   "outputs": [],
   "source": [
    "mat_lap_train=stocker_images_train_form(nbr_im)\n",
    "mat_lap_train.shape"
   ]
  },
  {
   "cell_type": "code",
   "execution_count": null,
   "id": "3ae811d5",
   "metadata": {},
   "outputs": [],
   "source": [
    "mat_lap_test=stocker_images_test_form(nbr_im)\n",
    "mat_lap_test.shape"
   ]
  },
  {
   "cell_type": "markdown",
   "id": "893fe969",
   "metadata": {},
   "source": [
    "**Matrices d'Histogrammes**"
   ]
  },
  {
   "cell_type": "code",
   "execution_count": null,
   "id": "d75a4303",
   "metadata": {},
   "outputs": [],
   "source": [
    "mat_hist_train=stocker_desc(mat_image_train,histo)\n",
    "mat_hist_train.shape"
   ]
  },
  {
   "cell_type": "code",
   "execution_count": null,
   "id": "154b2c3f",
   "metadata": {},
   "outputs": [],
   "source": [
    "mat_hist_test=stocker_desc(mat_image_test,histo)\n",
    "mat_hist_test.shape"
   ]
  },
  {
   "cell_type": "markdown",
   "id": "216f5554",
   "metadata": {},
   "source": [
    "**Matrices de forme**"
   ]
  },
  {
   "cell_type": "code",
   "execution_count": null,
   "id": "fb2b4415",
   "metadata": {},
   "outputs": [],
   "source": [
    "mat_hist_train_form=stocker_desc(mat_lap_train,histo)\n",
    "mat_hist_train_form.shape"
   ]
  },
  {
   "cell_type": "code",
   "execution_count": null,
   "id": "229f9c4b",
   "metadata": {},
   "outputs": [],
   "source": [
    "mat_hist_test_form=stocker_desc(mat_lap_test,histo)\n",
    "mat_hist_test_form.shape"
   ]
  },
  {
   "cell_type": "markdown",
   "id": "60bd67fa",
   "metadata": {},
   "source": [
    "**Matrices de Textures**"
   ]
  },
  {
   "cell_type": "code",
   "execution_count": null,
   "id": "67a40852",
   "metadata": {},
   "outputs": [],
   "source": [
    "mat_tex_train=stocker_desc(mat_image_train,texture)\n",
    "mat_tex_train.shape"
   ]
  },
  {
   "cell_type": "code",
   "execution_count": null,
   "id": "9bf3e2af",
   "metadata": {},
   "outputs": [],
   "source": [
    "mat_tex_test=stocker_desc(mat_image_test,texture)\n",
    "mat_tex_test.shape"
   ]
  },
  {
   "cell_type": "markdown",
   "id": "858799f2",
   "metadata": {},
   "source": [
    "**Matrices de Textures sur GLCM**"
   ]
  },
  {
   "cell_type": "code",
   "execution_count": null,
   "id": "030ccac6",
   "metadata": {},
   "outputs": [],
   "source": [
    "def stocker_descGLCM(mat_image):\n",
    "    nl,nc,nbr_img=mat_image.shape\n",
    "    desc=np.zeros((nbr_img,5))\n",
    "    for i in range(nbr_img):\n",
    "        desc[i]=texture(GLCM(mat_image[:,:,i]))\n",
    "    return desc"
   ]
  },
  {
   "cell_type": "code",
   "execution_count": null,
   "id": "240a6e8e",
   "metadata": {},
   "outputs": [],
   "source": [
    "mat_glcm_train=stocker_descGLCM(mat_image_train)\n",
    "mat_glcm_train.shape"
   ]
  },
  {
   "cell_type": "code",
   "execution_count": null,
   "id": "01a858c2",
   "metadata": {},
   "outputs": [],
   "source": [
    "mat_glcm_test=stocker_descGLCM(mat_image_test)\n",
    "mat_glcm_test.shape"
   ]
  },
  {
   "cell_type": "markdown",
   "id": "11e6c38d",
   "metadata": {},
   "source": [
    "**Matrices des Distances Euclidiennes**"
   ]
  },
  {
   "cell_type": "markdown",
   "id": "188e1c45",
   "metadata": {},
   "source": [
    "*Histogramme*"
   ]
  },
  {
   "cell_type": "code",
   "execution_count": null,
   "id": "d6ce6ef9",
   "metadata": {},
   "outputs": [],
   "source": [
    "def stocker_dist(mat_desc_train,mat_desc_test,nbr_img,nbr_testimg):\n",
    "    distance_mat=np.zeros((nbr_img,nbr_testimg))\n",
    "    for i in range(0,nbr_img):\n",
    "        for j in range(0,nbr_testimg):\n",
    "            distance_mat[i,j] = distance(mat_desc_train[i],mat_desc_test[j])\n",
    "    return distance_mat"
   ]
  },
  {
   "cell_type": "code",
   "execution_count": null,
   "id": "aa4a578c",
   "metadata": {},
   "outputs": [],
   "source": [
    "mat_hist_distE=stocker_dist(mat_hist_train,mat_hist_test,nbr_im,nbr_testim)"
   ]
  },
  {
   "cell_type": "markdown",
   "id": "416596c6",
   "metadata": {},
   "source": [
    "*La Forme*"
   ]
  },
  {
   "cell_type": "code",
   "execution_count": null,
   "id": "c305b28d",
   "metadata": {},
   "outputs": [],
   "source": [
    "mat_form_dist=stocker_dist(mat_hist_train_form,mat_hist_test_form,nbr_im,nbr_testim)"
   ]
  },
  {
   "cell_type": "markdown",
   "id": "286c3d37",
   "metadata": {},
   "source": [
    "*Texture*"
   ]
  },
  {
   "cell_type": "code",
   "execution_count": null,
   "id": "3bdd7f84",
   "metadata": {},
   "outputs": [],
   "source": [
    "mat_tex_distE=stocker_dist(mat_tex_train,mat_tex_test,nbr_im,nbr_testim)"
   ]
  },
  {
   "cell_type": "markdown",
   "id": "d60655cf",
   "metadata": {},
   "source": [
    "*GLCM*"
   ]
  },
  {
   "cell_type": "code",
   "execution_count": null,
   "id": "6232943e",
   "metadata": {},
   "outputs": [],
   "source": [
    "mat_glcm_distE=stocker_dist(mat_glcm_train,mat_glcm_test,nbr_im,nbr_testim)"
   ]
  },
  {
   "cell_type": "markdown",
   "id": "79df8390",
   "metadata": {},
   "source": [
    "**Matrices des Distances de Manhattan**"
   ]
  },
  {
   "cell_type": "code",
   "execution_count": null,
   "id": "07757380",
   "metadata": {},
   "outputs": [],
   "source": [
    "def stocker_distM(mat_desc_train,mat_desc_test,nbr_img,nbr_testimg):\n",
    "    distance_mat=np.zeros((nbr_img,nbr_testimg))\n",
    "    for i in range(0,nbr_img):\n",
    "        for j in range(0,nbr_testimg):\n",
    "            distance_mat[i,j] = distanceMan(mat_desc_train[i],mat_desc_test[j])\n",
    "    return distance_mat"
   ]
  },
  {
   "cell_type": "markdown",
   "id": "1548d84a",
   "metadata": {},
   "source": [
    "*Histogramme*"
   ]
  },
  {
   "cell_type": "code",
   "execution_count": null,
   "id": "e7bd73cf",
   "metadata": {},
   "outputs": [],
   "source": [
    "mat_hist_distM=stocker_distM(mat_hist_train,mat_hist_test,nbr_im,nbr_testim)"
   ]
  },
  {
   "cell_type": "markdown",
   "id": "bc2b6a02",
   "metadata": {},
   "source": [
    "*La Forme*"
   ]
  },
  {
   "cell_type": "code",
   "execution_count": null,
   "id": "e1f2d73e",
   "metadata": {},
   "outputs": [],
   "source": [
    "mat_form_distM=stocker_distM(mat_hist_train_form,mat_hist_test_form,nbr_im,nbr_testim)"
   ]
  },
  {
   "cell_type": "markdown",
   "id": "4014b3d1",
   "metadata": {},
   "source": [
    "*Texture*"
   ]
  },
  {
   "cell_type": "code",
   "execution_count": null,
   "id": "c2bf2af4",
   "metadata": {},
   "outputs": [],
   "source": [
    "mat_tex_distM=stocker_distM(mat_tex_train,mat_tex_test,nbr_im,nbr_testim)"
   ]
  },
  {
   "cell_type": "markdown",
   "id": "25ef3fad",
   "metadata": {},
   "source": [
    "*GLCM*"
   ]
  },
  {
   "cell_type": "code",
   "execution_count": null,
   "id": "878d151c",
   "metadata": {},
   "outputs": [],
   "source": [
    "mat_glcm_distM=stocker_distM(mat_glcm_train,mat_glcm_test,nbr_im,nbr_testim)"
   ]
  },
  {
   "cell_type": "markdown",
   "id": "b67f401f",
   "metadata": {},
   "source": [
    "### k-NN Classification "
   ]
  },
  {
   "cell_type": "code",
   "execution_count": null,
   "id": "0d575d1c",
   "metadata": {},
   "outputs": [],
   "source": [
    "req_im=268"
   ]
  },
  {
   "cell_type": "markdown",
   "id": "f7552333",
   "metadata": {},
   "source": [
    "**Distance Euclidienne**"
   ]
  },
  {
   "cell_type": "markdown",
   "id": "25818cf8",
   "metadata": {},
   "source": [
    "* Histogramme"
   ]
  },
  {
   "cell_type": "code",
   "execution_count": null,
   "id": "782dc10a",
   "metadata": {},
   "outputs": [],
   "source": [
    "mat_index=np.argsort(mat_hist_distE,axis=1)\n",
    "\n",
    "K_proche=10\n",
    "b=0;m=0;n=0\n",
    "\n",
    "for i in range(K_proche):\n",
    "    if mat_index[req_im][i]<nbr_im/3:\n",
    "        n+=1\n",
    "    elif mat_index[req_im][i]<(2*nbr_im/3):\n",
    "        b+=1\n",
    "    elif mat_index[req_im][i]<nbr_im:\n",
    "        m+=1\n",
    "if req_im<nbr_im/3:\n",
    "    print(\"Original Classification : No tumeur\")\n",
    "elif req_im<(2*nbr_im/3):\n",
    "    print(\"Original Classification : Benign\")\n",
    "elif req_im<nbr_im:\n",
    "    print(\"Original Classification : Malignant\")\n",
    "    \n",
    "print()\n",
    "print(\"Begnin : \",b*10,\"%\")\n",
    "print(\"Malignant : \",m*10,\"%\")\n",
    "print(\"No tumor : \",n*10,\"%\")"
   ]
  },
  {
   "cell_type": "markdown",
   "id": "01b818c9",
   "metadata": {},
   "source": [
    "* Forme"
   ]
  },
  {
   "cell_type": "code",
   "execution_count": null,
   "id": "4304e40f",
   "metadata": {},
   "outputs": [],
   "source": [
    "mat_index=np.argsort(mat_form_dist,axis=1)\n",
    "\n",
    "K_proche=10\n",
    "b=0;m=0;n=0\n",
    "\n",
    "for i in range(K_proche):\n",
    "    if mat_index[req_im][i]<nbr_im/3:\n",
    "        n+=1\n",
    "    elif mat_index[req_im][i]<(2*nbr_im/3):\n",
    "        b+=1\n",
    "    elif mat_index[req_im][i]<nbr_im:\n",
    "        m+=1\n",
    "if req_im<nbr_im/3:\n",
    "    print(\"Original Classification : No tumeur\")\n",
    "elif req_im<(2*nbr_im/3):\n",
    "    print(\"Original Classification : Benign\")\n",
    "elif req_im<nbr_im:\n",
    "    print(\"Original Classification : Malignant\")\n",
    "    \n",
    "print()\n",
    "print(\"Begnin : \",b*10,\"%\")\n",
    "print(\"Malignant : \",m*10,\"%\")\n",
    "print(\"No tumor : \",n*10,\"%\")"
   ]
  },
  {
   "cell_type": "markdown",
   "id": "5ec2c921",
   "metadata": {},
   "source": [
    "* Texture"
   ]
  },
  {
   "cell_type": "code",
   "execution_count": null,
   "id": "805ad477",
   "metadata": {},
   "outputs": [],
   "source": [
    "mat_index=np.argsort(mat_tex_distE,axis=1)\n",
    "\n",
    "K_proche=10\n",
    "b=0;m=0;n=0\n",
    "\n",
    "for i in range(K_proche):\n",
    "    if mat_index[req_im][i]<nbr_im/3:\n",
    "        n+=1\n",
    "    elif mat_index[req_im][i]<(2*nbr_im/3):\n",
    "        b+=1\n",
    "    elif mat_index[req_im][i]<nbr_im:\n",
    "        m+=1\n",
    "if req_im<nbr_im/3:\n",
    "    print(\"Original Classification : No tumeur\")\n",
    "elif req_im<(2*nbr_im/3):\n",
    "    print(\"Original Classification : Benign\")\n",
    "elif req_im<nbr_im:\n",
    "    print(\"Original Classification : Malignant\")\n",
    "    \n",
    "print()\n",
    "print(\"Begnin : \",b*10,\"%\")\n",
    "print(\"Malignant : \",m*10,\"%\")\n",
    "print(\"No tumor : \",n*10,\"%\")"
   ]
  },
  {
   "cell_type": "markdown",
   "id": "bbed7083",
   "metadata": {},
   "source": [
    "* GLCM"
   ]
  },
  {
   "cell_type": "code",
   "execution_count": null,
   "id": "c82ec1b4",
   "metadata": {},
   "outputs": [],
   "source": [
    "mat_index=np.argsort(mat_glcm_distE,axis=1)\n",
    "\n",
    "K_proche=10\n",
    "b=0;m=0;n=0\n",
    "\n",
    "for i in range(K_proche):\n",
    "    if mat_index[req_im][i]<nbr_im/3:\n",
    "        n+=1\n",
    "    elif mat_index[req_im][i]<(2*nbr_im/3):\n",
    "        b+=1\n",
    "    elif mat_index[req_im][i]<nbr_im:\n",
    "        m+=1\n",
    "if req_im<nbr_im/3:\n",
    "    print(\"Original Classification : No tumeur\")\n",
    "elif req_im<(2*nbr_im/3):\n",
    "    print(\"Original Classification : Benign\")\n",
    "elif req_im<nbr_im:\n",
    "    print(\"Original Classification : Malignant\")\n",
    "    \n",
    "print()\n",
    "print(\"Begnin : \",b*10,\"%\")\n",
    "print(\"Malignant : \",m*10,\"%\")\n",
    "print(\"No tumor : \",n*10,\"%\")"
   ]
  },
  {
   "cell_type": "code",
   "execution_count": null,
   "id": "e74f7dad",
   "metadata": {},
   "outputs": [],
   "source": [
    "mat_index[1]"
   ]
  },
  {
   "cell_type": "markdown",
   "id": "d0687432",
   "metadata": {},
   "source": [
    "**Distance de Manhattan**"
   ]
  },
  {
   "cell_type": "markdown",
   "id": "5488ad97",
   "metadata": {},
   "source": [
    "* Histogramme"
   ]
  },
  {
   "cell_type": "code",
   "execution_count": null,
   "id": "2234f2f7",
   "metadata": {},
   "outputs": [],
   "source": [
    "mat_index=np.argsort(mat_hist_distM,axis=1)\n",
    "\n",
    "K_proche=10\n",
    "b=0;m=0;n=0\n",
    "\n",
    "for i in range(K_proche):\n",
    "    if mat_index[req_im][i]<nbr_im/3:\n",
    "        n+=1\n",
    "    elif mat_index[req_im][i]<(2*nbr_im/3):\n",
    "        b+=1\n",
    "    elif mat_index[req_im][i]<nbr_im:\n",
    "        m+=1\n",
    "if req_im<nbr_im/3:\n",
    "    print(\"Original Classification : No tumeur\")\n",
    "elif req_im<(2*nbr_im/3):\n",
    "    print(\"Original Classification : Benign\")\n",
    "elif req_im<nbr_im:\n",
    "    print(\"Original Classification : Malignant\")\n",
    "    \n",
    "print()\n",
    "print(\"Begnin : \",b*10,\"%\")\n",
    "print(\"Malignant : \",m*10,\"%\")\n",
    "print(\"No tumor : \",n*10,\"%\")"
   ]
  },
  {
   "cell_type": "markdown",
   "id": "df8c8505",
   "metadata": {},
   "source": [
    "* Forme"
   ]
  },
  {
   "cell_type": "code",
   "execution_count": null,
   "id": "fd232854",
   "metadata": {},
   "outputs": [],
   "source": [
    "mat_index=np.argsort(mat_form_distM,axis=1)\n",
    "\n",
    "K_proche=10\n",
    "b=0;m=0;n=0\n",
    "\n",
    "for i in range(K_proche):\n",
    "    if mat_index[req_im][i]<nbr_im/3:\n",
    "        n+=1\n",
    "    elif mat_index[req_im][i]<(2*nbr_im/3):\n",
    "        b+=1\n",
    "    elif mat_index[req_im][i]<nbr_im:\n",
    "        m+=1\n",
    "if req_im<nbr_im/3:\n",
    "    print(\"Original Classification : No tumeur\")\n",
    "elif req_im<(2*nbr_im/3):\n",
    "    print(\"Original Classification : Benign\")\n",
    "elif req_im<nbr_im:\n",
    "    print(\"Original Classification : Malignant\")\n",
    "    \n",
    "print()\n",
    "print(\"Begnin : \",b*10,\"%\")\n",
    "print(\"Malignant : \",m*10,\"%\")\n",
    "print(\"No tumor : \",n*10,\"%\")"
   ]
  },
  {
   "cell_type": "markdown",
   "id": "fa8c9e52",
   "metadata": {},
   "source": [
    "* Texture"
   ]
  },
  {
   "cell_type": "code",
   "execution_count": null,
   "id": "72381b90",
   "metadata": {},
   "outputs": [],
   "source": [
    "mat_index=np.argsort(mat_tex_distM,axis=1)\n",
    "\n",
    "K_proche=10\n",
    "b=0;m=0;n=0\n",
    "\n",
    "for i in range(K_proche):\n",
    "    if mat_index[req_im][i]<nbr_im/3:\n",
    "        n+=1\n",
    "    elif mat_index[req_im][i]<(2*nbr_im/3):\n",
    "        b+=1\n",
    "    elif mat_index[req_im][i]<nbr_im:\n",
    "        m+=1\n",
    "if req_im<nbr_im/3:\n",
    "    print(\"Original Classification : No tumeur\")\n",
    "elif req_im<(2*nbr_im/3):\n",
    "    print(\"Original Classification : Benign\")\n",
    "elif req_im<nbr_im:\n",
    "    print(\"Original Classification : Malignant\")\n",
    "    \n",
    "print()\n",
    "print(\"Begnin : \",b*10,\"%\")\n",
    "print(\"Malignant : \",m*10,\"%\")\n",
    "print(\"No tumor : \",n*10,\"%\")"
   ]
  },
  {
   "cell_type": "markdown",
   "id": "012aacfc",
   "metadata": {},
   "source": [
    "* GLCM"
   ]
  },
  {
   "cell_type": "code",
   "execution_count": null,
   "id": "5fa89462",
   "metadata": {},
   "outputs": [],
   "source": [
    "mat_index=np.argsort(mat_glcm_distM,axis=1)\n",
    "\n",
    "K_proche=10\n",
    "b=0;m=0;n=0\n",
    "\n",
    "for i in range(K_proche):\n",
    "    if mat_index[req_im][i]<nbr_im/3:\n",
    "        n+=1\n",
    "    elif mat_index[req_im][i]<(2*nbr_im/3):\n",
    "        b+=1\n",
    "    elif mat_index[req_im][i]<nbr_im:\n",
    "        m+=1\n",
    "if req_im<nbr_im/3:\n",
    "    print(\"Original Classification : No tumeur\")\n",
    "elif req_im<(2*nbr_im/3):\n",
    "    print(\"Original Classification : Benign\")\n",
    "elif req_im<nbr_im:\n",
    "    print(\"Original Classification : Malignant\")\n",
    "    \n",
    "print()\n",
    "print(\"Begnin : \",b*10,\"%\")\n",
    "print(\"Malignant : \",m*10,\"%\")\n",
    "print(\"No tumor : \",n*10,\"%\")"
   ]
  },
  {
   "cell_type": "markdown",
   "id": "7aeda141",
   "metadata": {},
   "source": [
    "### **Calcul Des Rappel/Précision/Accuracy @Rank K**"
   ]
  },
  {
   "cell_type": "code",
   "execution_count": null,
   "id": "1b4fffd5",
   "metadata": {},
   "outputs": [],
   "source": [
    "def rappel_precision(mat_pert):\n",
    "    \n",
    "    Lpr=[]\n",
    "    Lre=[]\n",
    "    Lacc=[]\n",
    "    \n",
    "    prec=np.zeros((1,nbr_im))\n",
    "    rec=np.zeros((1,nbr_im))\n",
    "    accuracy=np.zeros((1,nbr_im))\n",
    "\n",
    "    for i in range(mat_pert.shape[0]):\n",
    "        pertinent = np.sum(mat_pert[i])\n",
    "        for j in range(1,nbr_im+1):\n",
    "            VP=np.sum(mat_pert[i][0:j])\n",
    "            FP=j-VP\n",
    "            FN=pertinent-VP\n",
    "            VN=nbr_im-j-FN\n",
    "            if((VP+FP)!=0):\n",
    "                prec[0,j-1]=VP/(VP+FP)\n",
    "            if((VP+FN)!=0):\n",
    "                rec[0,j-1]=VP/(VP+FN)\n",
    "            if((VP+VN+FP+FN)!=0):\n",
    "                accuracy[0,j-1]=(VP+VN)/(VP+VN+FP+FN)\n",
    "\n",
    "        pr=prec[0,mat_pert[i]==1]\n",
    "        re=rec[0,mat_pert[i]==1]\n",
    "        acc=accuracy[0,mat_pert[i]==1]\n",
    "        \n",
    "        if(pr.shape[0]!=0):\n",
    "            pr_moy=np.sum(pr)/pr.shape\n",
    "            Lpr.append(pr_moy)\n",
    "        if(re.shape[0]!=0):    \n",
    "            re_moy=np.sum(re)/re.shape\n",
    "            Lre.append(re_moy)\n",
    "        if(acc.shape[0]!=0):\n",
    "            acc_moy=np.sum(acc)/acc.shape\n",
    "            Lacc.append(acc_moy)\n",
    "        \n",
    "    return [(sum(Lre)/len(Lre)),(sum(Lpr)/len(Lpr)),(sum(Lacc)/len(Lacc))]"
   ]
  },
  {
   "cell_type": "markdown",
   "id": "d770a7d6",
   "metadata": {},
   "source": [
    "**Distance Euclidienne**"
   ]
  },
  {
   "cell_type": "markdown",
   "id": "cb3090b0",
   "metadata": {},
   "source": [
    "* Histogramme"
   ]
  },
  {
   "cell_type": "code",
   "execution_count": null,
   "id": "76f624c3",
   "metadata": {},
   "outputs": [],
   "source": [
    "mat_index=np.argsort(mat_hist_distE,axis=1)\n",
    "\n",
    "pert=np.zeros((nbr_im,nbr_testim))\n",
    "nbr_classe=3\n",
    "k=0\n",
    "for i in range(nbr_classe):\n",
    "    z1=k\n",
    "    z2=(i+1)*int(nbr_im/3)\n",
    "    classe=mat_index[z1:z2,:]\n",
    "    a=classe>=z1\n",
    "    b=classe<z2\n",
    "    pert[z1:z2,:]=a*b\n",
    "    k=k+int(nbr_im/3)\n",
    "    \n",
    "f1=(2*rappel_precision(pert)[0]*rappel_precision(pert)[1])/(rappel_precision(pert)[1]+rappel_precision(pert)[0])\n",
    "\n",
    "print(\"Rappel :\",rappel_precision(pert)[0])\n",
    "print(\"Précision :\",rappel_precision(pert)[1])\n",
    "print(\"Accuracy :\",rappel_precision(pert)[2])\n",
    "print(\"f1-sccor :\",f1)"
   ]
  },
  {
   "cell_type": "markdown",
   "id": "726f7458",
   "metadata": {},
   "source": [
    "* Forme"
   ]
  },
  {
   "cell_type": "code",
   "execution_count": null,
   "id": "2f63c70a",
   "metadata": {},
   "outputs": [],
   "source": [
    "mat_index=np.argsort(mat_form_dist,axis=1)\n",
    "\n",
    "pert=np.zeros((nbr_im,nbr_testim))\n",
    "nbr_classe=3\n",
    "k=0\n",
    "for i in range(nbr_classe):\n",
    "    z1=k\n",
    "    z2=(i+1)*int(nbr_im/3)\n",
    "    classe=mat_index[z1:z2,:]\n",
    "    a=classe>=z1\n",
    "    b=classe<z2\n",
    "    pert[z1:z2,:]=a*b\n",
    "    k=k+int(nbr_im/3)\n",
    "    \n",
    "f1=(2*rappel_precision(pert)[0]*rappel_precision(pert)[1])/(rappel_precision(pert)[1]+rappel_precision(pert)[0])\n",
    "\n",
    "print(\"Rappel :\",rappel_precision(pert)[0])\n",
    "print(\"Précision :\",rappel_precision(pert)[1])\n",
    "print(\"Accuracy :\",rappel_precision(pert)[2])\n",
    "print(\"f1-sccor :\",f1)"
   ]
  },
  {
   "cell_type": "markdown",
   "id": "5075e291",
   "metadata": {},
   "source": [
    "* Texture "
   ]
  },
  {
   "cell_type": "code",
   "execution_count": null,
   "id": "c33f8f8e",
   "metadata": {},
   "outputs": [],
   "source": [
    "mat_index=np.argsort(mat_tex_distE,axis=1)\n",
    "\n",
    "pert=np.zeros((nbr_im,nbr_testim))\n",
    "nbr_classe=3\n",
    "k=0\n",
    "for i in range(nbr_classe):\n",
    "    z1=k\n",
    "    z2=(i+1)*int(nbr_im/3)\n",
    "    classe=mat_index[z1:z2,:]\n",
    "    a=classe>=z1\n",
    "    b=classe<z2\n",
    "    pert[z1:z2,:]=a*b\n",
    "    k=k+int(nbr_im/3)\n",
    "    \n",
    "f1=(2*rappel_precision(pert)[0]*rappel_precision(pert)[1])/(rappel_precision(pert)[1]+rappel_precision(pert)[0])\n",
    "\n",
    "print(\"Rappel :\",rappel_precision(pert)[0])\n",
    "print(\"Précision :\",rappel_precision(pert)[1])\n",
    "print(\"Accuracy :\",rappel_precision(pert)[2])\n",
    "print(\"f1-sccor :\",f1)"
   ]
  },
  {
   "cell_type": "markdown",
   "id": "803c8e31",
   "metadata": {},
   "source": [
    "* GLCM "
   ]
  },
  {
   "cell_type": "code",
   "execution_count": null,
   "id": "28548fcc",
   "metadata": {},
   "outputs": [],
   "source": [
    "mat_index=np.argsort(mat_glcm_distE,axis=1)\n",
    "\n",
    "pert=np.zeros((nbr_im,nbr_testim))\n",
    "nbr_classe=3\n",
    "k=0\n",
    "for i in range(nbr_classe):\n",
    "    z1=k\n",
    "    z2=(i+1)*int(nbr_im/3)\n",
    "    classe=mat_index[z1:z2,:]\n",
    "    a=classe>=z1\n",
    "    b=classe<z2\n",
    "    pert[z1:z2,:]=a*b\n",
    "    k=k+int(nbr_im/3)\n",
    "    \n",
    "f1=(2*rappel_precision(pert)[0]*rappel_precision(pert)[1])/(rappel_precision(pert)[1]+rappel_precision(pert)[0])\n",
    "\n",
    "print(\"Rappel :\",rappel_precision(pert)[0])\n",
    "print(\"Précision :\",rappel_precision(pert)[1])\n",
    "print(\"Accuracy :\",rappel_precision(pert)[2])\n",
    "print(\"f1-sccor :\",f1)"
   ]
  },
  {
   "cell_type": "markdown",
   "id": "ceec7aa1",
   "metadata": {},
   "source": [
    "**Distance de Manhattan**"
   ]
  },
  {
   "cell_type": "markdown",
   "id": "7a1a47eb",
   "metadata": {},
   "source": [
    "* Histogramme "
   ]
  },
  {
   "cell_type": "code",
   "execution_count": null,
   "id": "b6fe2f9d",
   "metadata": {},
   "outputs": [],
   "source": [
    "mat_index=np.argsort(mat_hist_distM,axis=1)\n",
    "\n",
    "pert=np.zeros((nbr_im,nbr_testim))\n",
    "nbr_classe=3\n",
    "k=0\n",
    "for i in range(nbr_classe):\n",
    "    z1=k\n",
    "    z2=(i+1)*int(nbr_im/3)\n",
    "    classe=mat_index[z1:z2,:]\n",
    "    a=classe>=z1\n",
    "    b=classe<z2\n",
    "    pert[z1:z2,:]=a*b\n",
    "    k=k+int(nbr_im/3)\n",
    "    \n",
    "f1=(2*rappel_precision(pert)[0]*rappel_precision(pert)[1])/(rappel_precision(pert)[1]+rappel_precision(pert)[0])\n",
    "\n",
    "print(\"Rappel :\",rappel_precision(pert)[0])\n",
    "print(\"Précision :\",rappel_precision(pert)[1])\n",
    "print(\"Accuracy :\",rappel_precision(pert)[2])\n",
    "print(\"f1-sccor :\",f1)"
   ]
  },
  {
   "cell_type": "markdown",
   "id": "ff35514c",
   "metadata": {},
   "source": [
    "* Forme "
   ]
  },
  {
   "cell_type": "code",
   "execution_count": null,
   "id": "1d6e2cdb",
   "metadata": {},
   "outputs": [],
   "source": [
    "mat_index=np.argsort(mat_form_distM,axis=1)\n",
    "\n",
    "pert=np.zeros((nbr_im,nbr_testim))\n",
    "nbr_classe=3\n",
    "k=0\n",
    "for i in range(nbr_classe):\n",
    "    z1=k\n",
    "    z2=(i+1)*int(nbr_im/3)\n",
    "    classe=mat_index[z1:z2,:]\n",
    "    a=classe>=z1\n",
    "    b=classe<z2\n",
    "    pert[z1:z2,:]=a*b\n",
    "    k=k+int(nbr_im/3)\n",
    "    \n",
    "f1=(2*rappel_precision(pert)[0]*rappel_precision(pert)[1])/(rappel_precision(pert)[1]+rappel_precision(pert)[0])\n",
    "\n",
    "print(\"Rappel :\",rappel_precision(pert)[0])\n",
    "print(\"Précision :\",rappel_precision(pert)[1])\n",
    "print(\"Accuracy :\",rappel_precision(pert)[2])\n",
    "print(\"f1-sccor :\",f1)"
   ]
  },
  {
   "cell_type": "code",
   "execution_count": null,
   "id": "0f50f7dd",
   "metadata": {},
   "outputs": [],
   "source": [
    "type(int(f1))"
   ]
  },
  {
   "cell_type": "markdown",
   "id": "15437a18",
   "metadata": {},
   "source": [
    "* Texture "
   ]
  },
  {
   "cell_type": "code",
   "execution_count": null,
   "id": "6ee4cee2",
   "metadata": {},
   "outputs": [],
   "source": [
    "mat_index=np.argsort(mat_tex_distM,axis=1)\n",
    "\n",
    "pert=np.zeros((nbr_im,nbr_testim))\n",
    "nbr_classe=3\n",
    "k=0\n",
    "for i in range(nbr_classe):\n",
    "    z1=k\n",
    "    z2=(i+1)*int(nbr_im/3)\n",
    "    classe=mat_index[z1:z2,:]\n",
    "    a=classe>=z1\n",
    "    b=classe<z2\n",
    "    pert[z1:z2,:]=a*b\n",
    "    k=k+int(nbr_im/3)\n",
    "    \n",
    "f1=(2*rappel_precision(pert)[0]*rappel_precision(pert)[1])/(rappel_precision(pert)[1]+rappel_precision(pert)[0])\n",
    "\n",
    "print(\"Rappel :\",rappel_precision(pert)[0])\n",
    "print(\"Précision :\",rappel_precision(pert)[1])\n",
    "print(\"Accuracy :\",rappel_precision(pert)[2])\n",
    "print(\"f1-sccor :\",f1)"
   ]
  },
  {
   "cell_type": "markdown",
   "id": "1c168002",
   "metadata": {},
   "source": [
    "* GLCM "
   ]
  },
  {
   "cell_type": "code",
   "execution_count": null,
   "id": "12cc63ea",
   "metadata": {},
   "outputs": [],
   "source": [
    "mat_index=np.argsort(mat_glcm_distM,axis=1)\n",
    "\n",
    "pert=np.zeros((nbr_im,nbr_testim))\n",
    "nbr_classe=3\n",
    "k=0\n",
    "for i in range(nbr_classe):\n",
    "    z1=k\n",
    "    z2=(i+1)*int(nbr_im/3)\n",
    "    classe=mat_index[z1:z2,:]\n",
    "    a=classe>=z1\n",
    "    b=classe<z2\n",
    "    pert[z1:z2,:]=a*b\n",
    "    k=k+int(nbr_im/3)\n",
    "    \n",
    "f1=(2*rappel_precision(pert)[0]*rappel_precision(pert)[1])/(rappel_precision(pert)[1]+rappel_precision(pert)[0])\n",
    "\n",
    "print(\"Rappel :\",rappel_precision(pert)[0])\n",
    "print(\"Précision :\",rappel_precision(pert)[1])\n",
    "print(\"Accuracy :\",rappel_precision(pert)[2])\n",
    "print(\"f1-sccor :\",f1)"
   ]
  },
  {
   "cell_type": "code",
   "execution_count": null,
   "id": "4f1c72fa",
   "metadata": {},
   "outputs": [],
   "source": []
  }
 ],
 "metadata": {
  "kernelspec": {
   "display_name": "Python 3 (ipykernel)",
   "language": "python",
   "name": "python3"
  },
  "language_info": {
   "codemirror_mode": {
    "name": "ipython",
    "version": 3
   },
   "file_extension": ".py",
   "mimetype": "text/x-python",
   "name": "python",
   "nbconvert_exporter": "python",
   "pygments_lexer": "ipython3",
   "version": "3.9.7"
  }
 },
 "nbformat": 4,
 "nbformat_minor": 5
}
